{
 "cells": [
  {
   "cell_type": "markdown",
   "metadata": {},
   "source": [
    "## LangChain MCP Agent Client"
   ]
  },
  {
   "cell_type": "markdown",
   "metadata": {},
   "source": [
    "### Install dependencies"
   ]
  },
  {
   "cell_type": "code",
   "execution_count": 71,
   "metadata": {},
   "outputs": [
    {
     "name": "stderr",
     "output_type": "stream",
     "text": [
      "\u001b[2mResolved \u001b[1m99 packages\u001b[0m \u001b[2min 0.87ms\u001b[0m\u001b[0m\n",
      "\u001b[2mAudited \u001b[1m93 packages\u001b[0m \u001b[2min 0.04ms\u001b[0m\u001b[0m\n"
     ]
    }
   ],
   "source": [
    "\n",
    "!uv add langchain-mcp-adapters"
   ]
  },
  {
   "cell_type": "code",
   "execution_count": 72,
   "metadata": {},
   "outputs": [
    {
     "name": "stderr",
     "output_type": "stream",
     "text": [
      "\u001b[2mResolved \u001b[1m99 packages\u001b[0m \u001b[2min 0.51ms\u001b[0m\u001b[0m\n",
      "\u001b[2mAudited \u001b[1m93 packages\u001b[0m \u001b[2min 0.05ms\u001b[0m\u001b[0m\n"
     ]
    }
   ],
   "source": [
    "!uv add langgraph langchain-anthropic python-dotenv langchain_community langchain"
   ]
  },
  {
   "cell_type": "markdown",
   "metadata": {},
   "source": [
    "## Load env variables"
   ]
  },
  {
   "cell_type": "code",
   "execution_count": 80,
   "metadata": {},
   "outputs": [],
   "source": [
    "from dotenv import load_dotenv\n",
    "import os\n",
    "\n",
    "load_dotenv()\n",
    "api_key = os.environ.get(\"ANTHROPIC_API_KEY\")"
   ]
  },
  {
   "cell_type": "markdown",
   "metadata": {},
   "source": [
    "## Creating Server Params For stdio Connection"
   ]
  },
  {
   "cell_type": "code",
   "execution_count": null,
   "metadata": {},
   "outputs": [],
   "source": [
    "import asyncio\n",
    "from langchain.agents import AgentExecutor, create_react_agent\n",
    "from langchain_community.chat_models import ChatAnthropic\n",
    "\n",
    "from mcp import ClientSession, StdioServerParameters\n",
    "from mcp.client.stdio import stdio_client\n",
    "\n",
    "from langchain_mcp_adapters.tools import load_mcp_tools\n",
    "from langgraph.prebuilt import create_react_agent\n",
    "\n",
    "from langchain_anthropic import ChatAnthropic"
   ]
  },
  {
   "cell_type": "markdown",
   "metadata": {},
   "source": [
    "### Model"
   ]
  },
  {
   "cell_type": "code",
   "execution_count": 82,
   "metadata": {},
   "outputs": [],
   "source": [
    "model = ChatAnthropic(model=\"claude-3-5-sonnet-latest\", api_key=api_key)"
   ]
  },
  {
   "cell_type": "code",
   "execution_count": 84,
   "metadata": {},
   "outputs": [],
   "source": [
    "# server_params = StdioServerParameters(\n",
    "#     command=\"python\",\n",
    "#     args=[\"C:\\\\Users\\gaura\\mcp_server101\\weather\\weather.py\"],\n",
    "# )\n",
    "\n",
    "# async with stdio_client(server_params) as (read, write):\n",
    "#     async with ClientSession(read, write) as session:\n",
    "#         # Initialize the connection\n",
    "#         await session.initialize()\n",
    "\n",
    "#         # Get tools\n",
    "#         tools = await load_mcp_tools(session)\n",
    "\n",
    "#         # Create and run the agent\n",
    "#         agent = create_react_agent(model, tools)\n",
    "#         agent_response = await agent.ainvoke({\"messages\": \"What is the current weather in California\"})"
   ]
  },
  {
   "cell_type": "code",
   "execution_count": 85,
   "metadata": {},
   "outputs": [],
   "source": [
    "from langchain_mcp_adapters.client import MultiServerMCPClient"
   ]
  },
  {
   "cell_type": "code",
   "execution_count": 86,
   "metadata": {},
   "outputs": [],
   "source": [
    "async with MultiServerMCPClient(\n",
    "    {\n",
    "        \"weather\": {\n",
    "            \"url\": \"http://localhost:8000/sse\",\n",
    "            \"transport\": \"sse\",\n",
    "        }\n",
    "    }\n",
    ") as client:\n",
    "    agent = create_react_agent(model, client.get_tools())\n",
    "    agent_response = await agent.ainvoke({\"messages\": \"what is the weather in nyc?\"})"
   ]
  },
  {
   "cell_type": "code",
   "execution_count": 87,
   "metadata": {},
   "outputs": [],
   "source": [
    "from IPython.display import display, Markdown\n",
    "from langchain_core.messages import HumanMessage, ToolMessage, AIMessage"
   ]
  },
  {
   "cell_type": "code",
   "execution_count": 88,
   "metadata": {},
   "outputs": [
    {
     "data": {
      "text/plain": [
       "{'messages': [HumanMessage(content='what is the weather in nyc?', additional_kwargs={}, response_metadata={}, id='837f2644-fec3-471f-b15f-44704c2011be'),\n",
       "  AIMessage(content=[{'text': \"I'll help you get the weather forecast for New York City. I'll use the `get_forecast` function, which requires latitude and longitude coordinates for NYC. The coordinates for New York City are approximately 40.7128°N, 74.0060°W.\", 'type': 'text'}, {'id': 'toolu_01Ln318gv4qnwM9N52vHFaFZ', 'input': {'latitude': 40.7128, 'longitude': -74.006}, 'name': 'get_forecast', 'type': 'tool_use'}], additional_kwargs={}, response_metadata={'id': 'msg_01HbDPsQJHxftnPBJthJJ3wi', 'model': 'claude-3-5-sonnet-20241022', 'stop_reason': 'tool_use', 'stop_sequence': None, 'usage': {'cache_creation_input_tokens': 0, 'cache_read_input_tokens': 0, 'input_tokens': 507, 'output_tokens': 135}, 'model_name': 'claude-3-5-sonnet-20241022'}, id='run-a4da994b-cb7b-4d92-a26b-7cfda059eff2-0', tool_calls=[{'name': 'get_forecast', 'args': {'latitude': 40.7128, 'longitude': -74.006}, 'id': 'toolu_01Ln318gv4qnwM9N52vHFaFZ', 'type': 'tool_call'}], usage_metadata={'input_tokens': 507, 'output_tokens': 135, 'total_tokens': 642, 'input_token_details': {'cache_read': 0, 'cache_creation': 0}}),\n",
       "  ToolMessage(content='\\nToday:\\nTemperature: 53°F\\nWind: 9 to 14 mph S\\nForecast: Rain. Cloudy, with a high near 53. South wind 9 to 14 mph, with gusts as high as 24 mph. Chance of precipitation is 100%. New rainfall amounts between a half and three quarters of an inch possible.\\n\\n---\\n\\nTonight:\\nTemperature: 45°F\\nWind: 8 mph SW\\nForecast: A chance of rain before 8pm. Partly cloudy, with a low around 45. Southwest wind around 8 mph. Chance of precipitation is 50%. New rainfall amounts less than a tenth of an inch possible.\\n\\n---\\n\\nTuesday:\\nTemperature: 55°F\\nWind: 8 to 14 mph W\\nForecast: Sunny, with a high near 55. West wind 8 to 14 mph.\\n\\n---\\n\\nTuesday Night:\\nTemperature: 41°F\\nWind: 5 to 10 mph W\\nForecast: A chance of rain and snow after 8pm. Mostly cloudy, with a low around 41. West wind 5 to 10 mph. Chance of precipitation is 40%. New rainfall amounts less than a tenth of an inch possible.\\n\\n---\\n\\nWednesday:\\nTemperature: 49°F\\nWind: 7 to 12 mph NW\\nForecast: A chance of rain and snow before 2pm. Partly sunny, with a high near 49. Northwest wind 7 to 12 mph. Chance of precipitation is 40%. New rainfall amounts less than a tenth of an inch possible.\\n', name='get_forecast', id='d4947808-e533-4d00-bd1d-c647557f0cd5', tool_call_id='toolu_01Ln318gv4qnwM9N52vHFaFZ'),\n",
       "  AIMessage(content=\"According to the forecast, today in New York City:\\n- Current temperature is 53°F\\n- It's rainy and cloudy\\n- There's a south wind of 9 to 14 mph with gusts up to 24 mph\\n- 100% chance of rain with expected rainfall between 0.5 and 0.75 inches\\n\\nThe rain should taper off tonight, with tomorrow (Tuesday) being sunny with a high of 55°F. However, there's a chance of mixed rain and snow starting Tuesday night into Wednesday.\", additional_kwargs={}, response_metadata={'id': 'msg_01E5o7yqhGUwFfrzPna5J11s', 'model': 'claude-3-5-sonnet-20241022', 'stop_reason': 'end_turn', 'stop_sequence': None, 'usage': {'cache_creation_input_tokens': 0, 'cache_read_input_tokens': 0, 'input_tokens': 1023, 'output_tokens': 124}, 'model_name': 'claude-3-5-sonnet-20241022'}, id='run-bba976a0-6662-40cf-b6a5-452d181becdc-0', usage_metadata={'input_tokens': 1023, 'output_tokens': 124, 'total_tokens': 1147, 'input_token_details': {'cache_read': 0, 'cache_creation': 0}})]}"
      ]
     },
     "execution_count": 88,
     "metadata": {},
     "output_type": "execute_result"
    }
   ],
   "source": [
    "agent_response"
   ]
  },
  {
   "cell_type": "code",
   "execution_count": 89,
   "metadata": {},
   "outputs": [
    {
     "data": {
      "text/markdown": [
       "**User**: what is the weather in nyc?"
      ],
      "text/plain": [
       "<IPython.core.display.Markdown object>"
      ]
     },
     "metadata": {},
     "output_type": "display_data"
    },
    {
     "data": {
      "text/markdown": [
       "**AI**: I'll help you get the weather forecast for New York City. I'll use the `get_forecast` function, which requires latitude and longitude coordinates for NYC. The coordinates for New York City are approximately 40.7128°N, 74.0060°W."
      ],
      "text/plain": [
       "<IPython.core.display.Markdown object>"
      ]
     },
     "metadata": {},
     "output_type": "display_data"
    },
    {
     "data": {
      "text/markdown": [
       "**Tool**: \n",
       "Today:\n",
       "Temperature: 53°F\n",
       "Wind: 9 to 14 mph S\n",
       "Forecast: Rain. Cloudy, with a high near 53. South wind 9 to 14 mph, with gusts as high as 24 mph. Chance of precipitation is 100%. New rainfall amounts between a half and three quarters of an inch possible.\n",
       "\n",
       "---\n",
       "\n",
       "Tonight:\n",
       "Temperature: 45°F\n",
       "Wind: 8 mph SW\n",
       "Forecast: A chance of rain before 8pm. Partly cloudy, with a low around 45. Southwest wind around 8 mph. Chance of precipitation is 50%. New rainfall amounts less than a tenth of an inch possible.\n",
       "\n",
       "---\n",
       "\n",
       "Tuesday:\n",
       "Temperature: 55°F\n",
       "Wind: 8 to 14 mph W\n",
       "Forecast: Sunny, with a high near 55. West wind 8 to 14 mph.\n",
       "\n",
       "---\n",
       "\n",
       "Tuesday Night:\n",
       "Temperature: 41°F\n",
       "Wind: 5 to 10 mph W\n",
       "Forecast: A chance of rain and snow after 8pm. Mostly cloudy, with a low around 41. West wind 5 to 10 mph. Chance of precipitation is 40%. New rainfall amounts less than a tenth of an inch possible.\n",
       "\n",
       "---\n",
       "\n",
       "Wednesday:\n",
       "Temperature: 49°F\n",
       "Wind: 7 to 12 mph NW\n",
       "Forecast: A chance of rain and snow before 2pm. Partly sunny, with a high near 49. Northwest wind 7 to 12 mph. Chance of precipitation is 40%. New rainfall amounts less than a tenth of an inch possible.\n"
      ],
      "text/plain": [
       "<IPython.core.display.Markdown object>"
      ]
     },
     "metadata": {},
     "output_type": "display_data"
    },
    {
     "data": {
      "text/markdown": [
       "**AI**: According to the forecast, today in New York City:\n",
       "- Current temperature is 53°F\n",
       "- It's rainy and cloudy\n",
       "- There's a south wind of 9 to 14 mph with gusts up to 24 mph\n",
       "- 100% chance of rain with expected rainfall between 0.5 and 0.75 inches\n",
       "\n",
       "The rain should taper off tonight, with tomorrow (Tuesday) being sunny with a high of 55°F. However, there's a chance of mixed rain and snow starting Tuesday night into Wednesday."
      ],
      "text/plain": [
       "<IPython.core.display.Markdown object>"
      ]
     },
     "metadata": {},
     "output_type": "display_data"
    }
   ],
   "source": [
    "for response in agent_response[\"messages\"]:\n",
    "    user = \"\"\n",
    "    \n",
    "    if isinstance(response, HumanMessage):\n",
    "        user = \"**User**\"\n",
    "    elif isinstance(response, ToolMessage):\n",
    "        user = \"**Tool**\"\n",
    "    elif isinstance(response, AIMessage):\n",
    "        user = \"**AI**\"\n",
    "        \n",
    "    if isinstance(response.content, list):\n",
    "        display(Markdown(f'{user}: {response.content[0].get(\"text\", \"\")}'))\n",
    "        continue\n",
    "    display(Markdown(f\"{user}: {response.content}\"))"
   ]
  },
  {
   "cell_type": "code",
   "execution_count": 90,
   "metadata": {},
   "outputs": [
    {
     "data": {
      "text/markdown": [
       "**AI**: I can help you get the weather forecast for New York City. I'll use the get_forecast function with NYC's approximate coordinates (latitude 40.7128° N, longitude 74.0060° W)."
      ],
      "text/plain": [
       "<IPython.core.display.Markdown object>"
      ]
     },
     "metadata": {},
     "output_type": "display_data"
    },
    {
     "data": {
      "text/markdown": [
       "**Tool (get_forecast)**: \n",
       "Today:\n",
       "Temperature: 53°F\n",
       "Wind: 9 to 14 mph S\n",
       "Forecast: Rain. Cloudy, with a high near 53. South wind 9 to 14 mph, with gusts as high as 24 mph. Chance of precipitation is 100%. New rainfall amounts between a half and three quarters of an inch possible.\n",
       "\n",
       "---\n",
       "\n",
       "Tonight:\n",
       "Temperature: 45°F\n",
       "Wind: 8 mph SW\n",
       "Forecast: A chance of rain before 8pm. Partly cloudy, with a low around 45. Southwest wind around 8 mph. Chance of precipitation is 50%. New rainfall amounts less than a tenth of an inch possible.\n",
       "\n",
       "---\n",
       "\n",
       "Tuesday:\n",
       "Temperature: 55°F\n",
       "Wind: 8 to 14 mph W\n",
       "Forecast: Sunny, with a high near 55. West wind 8 to 14 mph.\n",
       "\n",
       "---\n",
       "\n",
       "Tuesday Night:\n",
       "Temperature: 41°F\n",
       "Wind: 5 to 10 mph W\n",
       "Forecast: A chance of rain and snow after 8pm. Mostly cloudy, with a low around 41. West wind 5 to 10 mph. Chance of precipitation is 40%. New rainfall amounts less than a tenth of an inch possible.\n",
       "\n",
       "---\n",
       "\n",
       "Wednesday:\n",
       "Temperature: 49°F\n",
       "Wind: 7 to 12 mph NW\n",
       "Forecast: A chance of rain and snow before 2pm. Partly sunny, with a high near 49. Northwest wind 7 to 12 mph. Chance of precipitation is 40%. New rainfall amounts less than a tenth of an inch possible.\n"
      ],
      "text/plain": [
       "<IPython.core.display.Markdown object>"
      ]
     },
     "metadata": {},
     "output_type": "display_data"
    },
    {
     "data": {
      "text/markdown": [
       "**AI**: Currently in New York City, it's 53°F with rain and cloudy conditions. There's a 100% chance of precipitation with expected rainfall between 0.5-0.75 inches. The wind is coming from the south at 9-14 mph with gusts up to 24 mph.\n",
       "\n",
       "Tonight, the rain should taper off by 8 PM, with partly cloudy skies and a low of 45°F. Tomorrow (Tuesday) looks better with sunny conditions and a high of 55°F, though by Tuesday night there's a chance of rain and snow.\n",
       "\n",
       "Would you like to know about any weather alerts for New York state as well?"
      ],
      "text/plain": [
       "<IPython.core.display.Markdown object>"
      ]
     },
     "metadata": {},
     "output_type": "display_data"
    }
   ],
   "source": [
    "async with MultiServerMCPClient(\n",
    "    {\n",
    "        \"weather\": {\n",
    "            \"url\": \"http://localhost:8000/sse\",\n",
    "            \"transport\": \"sse\",\n",
    "        }\n",
    "    }\n",
    ") as client:\n",
    "    agent = create_react_agent(model, client.get_tools())\n",
    "    \n",
    "    # Stream the response chunks\n",
    "    async for chunk in agent.astream({\"messages\": \"what is the weather in nyc?\"}):\n",
    "        # Extract the message content from the AddableUpdatesDict structure\n",
    "        if 'agent' in chunk and 'messages' in chunk['agent']:\n",
    "            for message in chunk['agent']['messages']:\n",
    "                if isinstance(message, AIMessage):\n",
    "                    # Handle different content formats\n",
    "                    if isinstance(message.content, list):\n",
    "                        # For structured content with text and tool use\n",
    "                        for item in message.content:\n",
    "                            if isinstance(item, dict) and 'text' in item:\n",
    "                                display(Markdown(f\"**AI**: {item['text']}\"))\n",
    "                    else:\n",
    "                        # For simple text content\n",
    "                        display(Markdown(f\"**AI**: {message.content}\"))\n",
    "                        \n",
    "        elif 'tools' in chunk and 'messages' in chunk['tools']:\n",
    "            for message in chunk['tools']['messages']:\n",
    "                if hasattr(message, 'name') and hasattr(message, 'content'):\n",
    "                    # Display tool response\n",
    "                    display(Markdown(f\"**Tool ({message.name})**: {message.content}\"))"
   ]
  }
 ],
 "metadata": {
  "kernelspec": {
   "display_name": ".venv",
   "language": "python",
   "name": "python3"
  },
  "language_info": {
   "codemirror_mode": {
    "name": "ipython",
    "version": 3
   },
   "file_extension": ".py",
   "mimetype": "text/x-python",
   "name": "python",
   "nbconvert_exporter": "python",
   "pygments_lexer": "ipython3",
   "version": "3.12.9"
  }
 },
 "nbformat": 4,
 "nbformat_minor": 2
}
